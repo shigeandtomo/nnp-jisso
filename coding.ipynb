{
 "cells": [
  {
   "cell_type": "code",
   "execution_count": 1,
   "metadata": {},
   "outputs": [],
   "source": [
    "# 必要ライブラリのインポート\n",
    "\n",
    "%matplotlib inline\n",
    "import numpy as np\n",
    "import pandas as pd\n",
    "import matplotlib.pyplot as plt\n",
    "import japanize_matplotlib\n",
    "from IPython.display import display\n",
    "import omx"
   ]
  },
  {
   "cell_type": "code",
   "execution_count": 2,
   "metadata": {},
   "outputs": [],
   "source": [
    "import torch\n",
    "import torch.nn as nn\n",
    "import torch.optim as optim\n",
    "from torchviz import make_dot\n",
    "from torchinfo import summary"
   ]
  },
  {
   "cell_type": "code",
   "execution_count": 3,
   "metadata": {},
   "outputs": [],
   "source": [
    "# デフォルトフォントサイズ変更\n",
    "plt.rcParams['font.size'] = 14\n",
    "\n",
    "# デフォルトグラフサイズ変更\n",
    "plt.rcParams['figure.figsize'] = (6,6)\n",
    "\n",
    "# デフォルトで方眼表示ON\n",
    "plt.rcParams['axes.grid'] = True\n",
    "\n",
    "# numpyの浮動小数点の表示精度\n",
    "np.set_printoptions(suppress=True, precision=4)"
   ]
  },
  {
   "cell_type": "code",
   "execution_count": 4,
   "metadata": {},
   "outputs": [],
   "source": [
    "def switch_func(r_norm,r_cutoff=6.0):\n",
    "    r_cutoff_smth=0.1\n",
    "    s=torch.zeros_like(r_norm)\n",
    "    x=torch.zeros_like(r_norm)\n",
    "    mask=(r_norm<r_cutoff)\n",
    "    x[mask]=(r_norm[mask]-r_cutoff_smth)/(r_cutoff-r_cutoff_smth)\n",
    "    s[mask]=(x[mask]*x[mask]*x[mask]*(-6*x[mask]*x[mask]+15*x[mask]-10)+1)/r_norm[mask]\n",
    "    return s"
   ]
  },
  {
   "cell_type": "code",
   "execution_count": 5,
   "metadata": {},
   "outputs": [],
   "source": [
    "def convert_relative(coords,atom_i_idxs,atom_j_idxs):\n",
    "    relative_coords=coords[:,atom_j_idxs]-coords[:,atom_i_idxs]\n",
    "    return relative_coords"
   ]
  },
  {
   "cell_type": "code",
   "execution_count": 6,
   "metadata": {},
   "outputs": [],
   "source": [
    "def convert_general(relative_coords):\n",
    "    general_coords=torch.zeros(relative_coords.shape[0],relative_coords.shape[1],4)\n",
    "    relative_coords_norm=torch.linalg.norm(relative_coords,dim=2)\n",
    "    s_vec=switch_func(relative_coords_norm)\n",
    "    general_coords[:,:,0]=s_vec\n",
    "    general_coords[:,:,1:]=relative_coords*s_vec.unsqueeze(-1)/relative_coords_norm.unsqueeze(-1)\n",
    "    return general_coords"
   ]
  },
  {
   "cell_type": "code",
   "execution_count": 94,
   "metadata": {},
   "outputs": [],
   "source": [
    "class ThreeLayerPerceptron(nn.Module):\n",
    "    def __init__(self,n_input,n_hiddens,n_output):\n",
    "        super(ThreeLayerPerceptron,self).__init__()\n",
    "        self.l1 = nn.Linear(n_input, n_hiddens[0])\n",
    "        self.l2 = nn.Linear(n_hiddens[0], n_hiddens[1])\n",
    "        self.l3 = nn.Linear(n_hiddens[1], n_hiddens[2])\n",
    "        self.l4 = nn.Linear(n_hiddens[2], n_output)\n",
    "        self.relu = nn.ReLU(inplace=True)  \n",
    "    def forward(self,x):\n",
    "        x1 = self.l1(x)\n",
    "        x2 = self.relu(x1)\n",
    "        x3 = self.l2(x2)\n",
    "        x4 = self.relu(x3)\n",
    "        x5 = self.l3(x4)\n",
    "        x6 = self.relu(x5)\n",
    "        x7 = self.l4(x6)\n",
    "        return x7"
   ]
  },
  {
   "cell_type": "code",
   "execution_count": 95,
   "metadata": {},
   "outputs": [],
   "source": [
    "class DeepPotSE(nn.Module):\n",
    "    def __init__(\n",
    "        self,M1,M2\n",
    "        ):\n",
    "        super(DeepPotSE,self).__init__()\n",
    "        self.M1=M1\n",
    "        self.M2=M2\n",
    "\n",
    "        self.embedding_net=ThreeLayerPerceptron(\n",
    "            n_input=1,\n",
    "            n_hiddens=[10,20,40],\n",
    "            n_output=M1\n",
    "        )\n",
    "\n",
    "        self.fitting_net=ThreeLayerPerceptron(\n",
    "            n_input=M1*M2,\n",
    "            n_hiddens=[100,100,100],\n",
    "            n_output=1\n",
    "        )\n",
    "\n",
    "    def forward(\n",
    "        self,coords,atom_i_idxs,atom_j_idxs\n",
    "        ):\n",
    "        coords.requires_grad_(True)\n",
    "        relative_coords=convert_relative(coords,atom_i_idxs,atom_j_idxs)\n",
    "        general_coords=convert_general(relative_coords)\n",
    "        \n",
    "        g_vec=general_coords[:,:,0].reshape(-1,1)\n",
    "\n",
    "        Gi1s=self.embedding_net(g_vec).reshape(coords.shape[0],coords.shape[1],sel,M1)\n",
    "        Gi2s=Gi1s[:,:,:,:M2]\n",
    "\n",
    "        general_coords=general_coords.reshape(coords.shape[0],coords.shape[1],sel,4)\n",
    "        left=torch.matmul(\n",
    "            torch.transpose(Gi1s,2,3),\n",
    "            general_coords\n",
    "        )\n",
    "        right=torch.matmul(\n",
    "            torch.transpose(general_coords,2,3),\n",
    "            Gi2s\n",
    "        )\n",
    "        Dis=torch.matmul(left,right)\n",
    "        Dis_reshaped=Dis.reshape(coords.shape[0],coords.shape[1],M1*M2)\n",
    "        total_potential_energy=torch.sum(\n",
    "            self.fitting_net(Dis_reshaped)\n",
    "        ,dim=1)\n",
    "\n",
    "        return total_potential_energy"
   ]
  },
  {
   "cell_type": "code",
   "execution_count": 96,
   "metadata": {},
   "outputs": [],
   "source": [
    "file_name = \"Methane\"\n",
    "fname = f\"{file_name}.dat\"\n",
    "mdname = f\"{file_name}.md\"\n",
    "atom_names, atom_numbs, atom_types, cells = omx.load_param_file(fname, mdname)\n",
    "coords, steps = omx.load_data(mdname, atom_names, np.sum(atom_numbs))\n",
    "energy, force = omx.to_system_label(fname, mdname)"
   ]
  },
  {
   "cell_type": "code",
   "execution_count": 97,
   "metadata": {},
   "outputs": [],
   "source": [
    "n_frame=coords.shape[0]\n",
    "n_atom=np.sum(atom_numbs)\n",
    "sel=4\n",
    "coords=torch.tensor(coords).float()\n",
    "atom_i_idxs=torch.tensor([[i]*sel for i in range(n_atom)]).reshape(-1)\n",
    "atom_j_idxs=torch.tensor([list(set([0,1,2,3,4])-{i}) for i in range(n_atom)]).reshape(-1)"
   ]
  },
  {
   "cell_type": "code",
   "execution_count": 98,
   "metadata": {},
   "outputs": [
    {
     "data": {
      "text/plain": [
       "torch.Size([200, 1])"
      ]
     },
     "execution_count": 98,
     "metadata": {},
     "output_type": "execute_result"
    }
   ],
   "source": [
    "M1,M2=100,50\n",
    "model=DeepPotSE(M1,M2)\n",
    "total_potential_energy=model(coords,atom_i_idxs,atom_j_idxs)\n",
    "total_potential_energy.shape\n",
    "# summary(model)"
   ]
  },
  {
   "cell_type": "code",
   "execution_count": 99,
   "metadata": {},
   "outputs": [],
   "source": [
    "lr=0.001\n",
    "criterion=nn.MSELoss()\n",
    "optimizer=optim.Adam(model.parameters(),lr=lr)\n",
    "num_epochs=200\n",
    "history=np.zeros((0,2))"
   ]
  },
  {
   "cell_type": "code",
   "execution_count": 100,
   "metadata": {},
   "outputs": [],
   "source": [
    "labels=torch.tensor(energy).float().view(-1,1)+223\n",
    "# labels+223"
   ]
  },
  {
   "cell_type": "code",
   "execution_count": 101,
   "metadata": {},
   "outputs": [
    {
     "name": "stdout",
     "output_type": "stream",
     "text": [
      "0,0.034132808446884155\n",
      "10,0.0033799889497458935\n",
      "20,0.002967814216390252\n",
      "30,0.0027181857731193304\n",
      "40,0.002664310624822974\n",
      "50,0.00267293700017035\n",
      "60,0.002662248909473419\n",
      "70,0.0026622682344168425\n",
      "80,0.0026604323647916317\n",
      "90,0.0026599073316901922\n",
      "100,0.002659618854522705\n",
      "110,0.0026593166403472424\n",
      "120,0.0026589976623654366\n",
      "130,0.0026587038300931454\n",
      "140,0.0026583790313452482\n"
     ]
    },
    {
     "ename": "KeyboardInterrupt",
     "evalue": "",
     "output_type": "error",
     "traceback": [
      "\u001b[0;31m---------------------------------------------------------------------------\u001b[0m",
      "\u001b[0;31mKeyboardInterrupt\u001b[0m                         Traceback (most recent call last)",
      "Cell \u001b[0;32mIn[101], line 8\u001b[0m\n\u001b[1;32m      4\u001b[0m total_potential_energy\u001b[38;5;241m=\u001b[39mmodel(coords,atom_i_idxs,atom_j_idxs)\n\u001b[1;32m      6\u001b[0m loss\u001b[38;5;241m=\u001b[39mcriterion(total_potential_energy,labels)\n\u001b[0;32m----> 8\u001b[0m \u001b[43mloss\u001b[49m\u001b[38;5;241;43m.\u001b[39;49m\u001b[43mbackward\u001b[49m\u001b[43m(\u001b[49m\u001b[43m)\u001b[49m\n\u001b[1;32m     10\u001b[0m optimizer\u001b[38;5;241m.\u001b[39mstep()\n\u001b[1;32m     12\u001b[0m \u001b[38;5;28;01mif\u001b[39;00m epoch\u001b[38;5;241m%\u001b[39m\u001b[38;5;241m1\u001b[39m\u001b[38;5;241m==\u001b[39m\u001b[38;5;241m0\u001b[39m:\n",
      "File \u001b[0;32m~/miniconda3/envs/pytorch/lib/python3.12/site-packages/torch/_tensor.py:522\u001b[0m, in \u001b[0;36mTensor.backward\u001b[0;34m(self, gradient, retain_graph, create_graph, inputs)\u001b[0m\n\u001b[1;32m    512\u001b[0m \u001b[38;5;28;01mif\u001b[39;00m has_torch_function_unary(\u001b[38;5;28mself\u001b[39m):\n\u001b[1;32m    513\u001b[0m     \u001b[38;5;28;01mreturn\u001b[39;00m handle_torch_function(\n\u001b[1;32m    514\u001b[0m         Tensor\u001b[38;5;241m.\u001b[39mbackward,\n\u001b[1;32m    515\u001b[0m         (\u001b[38;5;28mself\u001b[39m,),\n\u001b[0;32m   (...)\u001b[0m\n\u001b[1;32m    520\u001b[0m         inputs\u001b[38;5;241m=\u001b[39minputs,\n\u001b[1;32m    521\u001b[0m     )\n\u001b[0;32m--> 522\u001b[0m \u001b[43mtorch\u001b[49m\u001b[38;5;241;43m.\u001b[39;49m\u001b[43mautograd\u001b[49m\u001b[38;5;241;43m.\u001b[39;49m\u001b[43mbackward\u001b[49m\u001b[43m(\u001b[49m\n\u001b[1;32m    523\u001b[0m \u001b[43m    \u001b[49m\u001b[38;5;28;43mself\u001b[39;49m\u001b[43m,\u001b[49m\u001b[43m \u001b[49m\u001b[43mgradient\u001b[49m\u001b[43m,\u001b[49m\u001b[43m \u001b[49m\u001b[43mretain_graph\u001b[49m\u001b[43m,\u001b[49m\u001b[43m \u001b[49m\u001b[43mcreate_graph\u001b[49m\u001b[43m,\u001b[49m\u001b[43m \u001b[49m\u001b[43minputs\u001b[49m\u001b[38;5;241;43m=\u001b[39;49m\u001b[43minputs\u001b[49m\n\u001b[1;32m    524\u001b[0m \u001b[43m\u001b[49m\u001b[43m)\u001b[49m\n",
      "File \u001b[0;32m~/miniconda3/envs/pytorch/lib/python3.12/site-packages/torch/autograd/__init__.py:266\u001b[0m, in \u001b[0;36mbackward\u001b[0;34m(tensors, grad_tensors, retain_graph, create_graph, grad_variables, inputs)\u001b[0m\n\u001b[1;32m    261\u001b[0m     retain_graph \u001b[38;5;241m=\u001b[39m create_graph\n\u001b[1;32m    263\u001b[0m \u001b[38;5;66;03m# The reason we repeat the same comment below is that\u001b[39;00m\n\u001b[1;32m    264\u001b[0m \u001b[38;5;66;03m# some Python versions print out the first line of a multi-line function\u001b[39;00m\n\u001b[1;32m    265\u001b[0m \u001b[38;5;66;03m# calls in the traceback and some print out the last line\u001b[39;00m\n\u001b[0;32m--> 266\u001b[0m \u001b[43mVariable\u001b[49m\u001b[38;5;241;43m.\u001b[39;49m\u001b[43m_execution_engine\u001b[49m\u001b[38;5;241;43m.\u001b[39;49m\u001b[43mrun_backward\u001b[49m\u001b[43m(\u001b[49m\u001b[43m  \u001b[49m\u001b[38;5;66;43;03m# Calls into the C++ engine to run the backward pass\u001b[39;49;00m\n\u001b[1;32m    267\u001b[0m \u001b[43m    \u001b[49m\u001b[43mtensors\u001b[49m\u001b[43m,\u001b[49m\n\u001b[1;32m    268\u001b[0m \u001b[43m    \u001b[49m\u001b[43mgrad_tensors_\u001b[49m\u001b[43m,\u001b[49m\n\u001b[1;32m    269\u001b[0m \u001b[43m    \u001b[49m\u001b[43mretain_graph\u001b[49m\u001b[43m,\u001b[49m\n\u001b[1;32m    270\u001b[0m \u001b[43m    \u001b[49m\u001b[43mcreate_graph\u001b[49m\u001b[43m,\u001b[49m\n\u001b[1;32m    271\u001b[0m \u001b[43m    \u001b[49m\u001b[43minputs\u001b[49m\u001b[43m,\u001b[49m\n\u001b[1;32m    272\u001b[0m \u001b[43m    \u001b[49m\u001b[43mallow_unreachable\u001b[49m\u001b[38;5;241;43m=\u001b[39;49m\u001b[38;5;28;43;01mTrue\u001b[39;49;00m\u001b[43m,\u001b[49m\n\u001b[1;32m    273\u001b[0m \u001b[43m    \u001b[49m\u001b[43maccumulate_grad\u001b[49m\u001b[38;5;241;43m=\u001b[39;49m\u001b[38;5;28;43;01mTrue\u001b[39;49;00m\u001b[43m,\u001b[49m\n\u001b[1;32m    274\u001b[0m \u001b[43m\u001b[49m\u001b[43m)\u001b[49m\n",
      "\u001b[0;31mKeyboardInterrupt\u001b[0m: "
     ]
    }
   ],
   "source": [
    "for epoch in range(num_epochs):\n",
    "    optimizer.zero_grad()\n",
    "\n",
    "    total_potential_energy=model(coords,atom_i_idxs,atom_j_idxs)\n",
    "\n",
    "    loss=criterion(total_potential_energy,labels)\n",
    "\n",
    "    loss.backward()\n",
    "\n",
    "    optimizer.step()\n",
    "\n",
    "    if epoch%1==0:\n",
    "        history=np.vstack((history,np.array([epoch,loss.item()])))\n",
    "        if epoch%10==0:\n",
    "            print(f\"{epoch},{loss}\")"
   ]
  },
  {
   "cell_type": "code",
   "execution_count": 79,
   "metadata": {},
   "outputs": [
    {
     "data": {
      "text/plain": [
       "[<matplotlib.lines.Line2D at 0x15eed25a0>]"
      ]
     },
     "execution_count": 79,
     "metadata": {},
     "output_type": "execute_result"
    },
    {
     "data": {
      "image/png": "[encoded data removed]",
      "text/plain": [
       "<Figure size 600x600 with 1 Axes>"
      ]
     },
     "metadata": {},
     "output_type": "display_data"
    }
   ],
   "source": [
    "plt.plot(history[:,0],history[:,1],\"b\")"
   ]
  },
  {
   "cell_type": "code",
   "execution_count": 80,
   "metadata": {},
   "outputs": [],
   "source": [
    "total_potential_energy_np=total_potential_energy.detach().numpy()\n",
    "labels_np=labels.detach().numpy()"
   ]
  },
  {
   "cell_type": "code",
   "execution_count": 81,
   "metadata": {},
   "outputs": [
    {
     "data": {
      "text/plain": [
       "[<matplotlib.lines.Line2D at 0x15ef92720>]"
      ]
     },
     "execution_count": 81,
     "metadata": {},
     "output_type": "execute_result"
    },
    {
     "data": {
      "image/png": "[encoded data removed]",
      "text/plain": [
       "<Figure size 600x600 with 1 Axes>"
      ]
     },
     "metadata": {},
     "output_type": "display_data"
    }
   ],
   "source": [
    "plt.scatter(total_potential_energy_np,labels_np)\n",
    "x_range = np.linspace(plt.xlim()[0], plt.xlim()[1])\n",
    "plt.plot(x_range, x_range, \"r--\", linewidth=0.25)"
   ]
  },
  {
   "cell_type": "code",
   "execution_count": null,
   "metadata": {},
   "outputs": [],
   "source": []
  }
 ],
 "metadata": {
  "kernelspec": {
   "display_name": "pytorch",
   "language": "python",
   "name": "python3"
  },
  "language_info": {
   "codemirror_mode": {
    "name": "ipython",
    "version": 3
   },
   "file_extension": ".py",
   "mimetype": "text/x-python",
   "name": "python",
   "nbconvert_exporter": "python",
   "pygments_lexer": "ipython3",
   "version": "3.12.2"
  }
 },
 "nbformat": 4,
 "nbformat_minor": 2
}
