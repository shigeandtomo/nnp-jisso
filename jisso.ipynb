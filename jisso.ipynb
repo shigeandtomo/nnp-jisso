{
 "cells": [
  {
   "cell_type": "code",
   "execution_count": 142,
   "metadata": {},
   "outputs": [],
   "source": [
    "import numpy as np\n",
    "import torch\n",
    "import torch.nn as nn\n",
    "import torch.optim as optim"
   ]
  },
  {
   "cell_type": "code",
   "execution_count": 143,
   "metadata": {},
   "outputs": [],
   "source": [
    "N=100\n",
    "# coords=torch.rand((N,3),dtype=torch.float64)\n",
    "coords=torch.arange(N*3,dtype=torch.float64).reshape(N,3)\n",
    "atom_types=torch.ones(N,dtype=torch.long)\n",
    "# coords,atom_types"
   ]
  },
  {
   "cell_type": "code",
   "execution_count": 144,
   "metadata": {},
   "outputs": [],
   "source": [
    "sel=50\n",
    "atom_i_idxs=torch.tensor([[i]*sel for i in range(N)]).view(-1)\n",
    "# iの周りにsel以上の原子があると仮定\n",
    "atom_j_idxs=torch.randint(N,(N*sel,))\n",
    "# atom_j_idxs.shape"
   ]
  },
  {
   "cell_type": "code",
   "execution_count": 145,
   "metadata": {},
   "outputs": [
    {
     "name": "stdout",
     "output_type": "stream",
     "text": [
      "torch.Size([5000])\n"
     ]
    },
    {
     "data": {
      "text/plain": [
       "torch.Size([5000])"
      ]
     },
     "execution_count": 145,
     "metadata": {},
     "output_type": "execute_result"
    }
   ],
   "source": [
    "atom_i_types=torch.tensor([[1]*sel for i in range(N)],dtype=torch.long).view(-1)\n",
    "print(atom_i_types.shape)\n",
    "atom_j_types=torch.ones(N*sel,dtype=torch.long)\n",
    "atom_j_types.shape"
   ]
  },
  {
   "cell_type": "code",
   "execution_count": 146,
   "metadata": {},
   "outputs": [],
   "source": [
    "shift=torch.randint(2,(N*sel,3)).float()*10.0"
   ]
  },
  {
   "cell_type": "code",
   "execution_count": 147,
   "metadata": {},
   "outputs": [],
   "source": [
    "def convert_relative(\n",
    "    coords,\n",
    "    atom_i_idxs,\n",
    "    atom_j_idxs,\n",
    "    shift\n",
    "):\n",
    "    relative_coords=coords[atom_j_idxs]-coords[atom_i_idxs]+shift\n",
    "    return relative_coords"
   ]
  },
  {
   "cell_type": "code",
   "execution_count": 148,
   "metadata": {},
   "outputs": [
    {
     "data": {
      "text/plain": [
       "torch.Size([5000, 3])"
      ]
     },
     "execution_count": 148,
     "metadata": {},
     "output_type": "execute_result"
    }
   ],
   "source": [
    "relative_coords=convert_relative(coords,atom_i_idxs,atom_j_idxs,shift)\n",
    "relative_coords.shape"
   ]
  },
  {
   "cell_type": "code",
   "execution_count": 149,
   "metadata": {},
   "outputs": [],
   "source": [
    "def switch_func(r_norm,r_cutoff=6.0):\n",
    "    r_cutoff_smth=0.1\n",
    "    s=torch.zeros_like(r_norm)\n",
    "    x=torch.zeros_like(r_norm)\n",
    "    mask=(r_norm<r_cutoff)\n",
    "    x[mask]=(r_norm[mask]-r_cutoff_smth)/(r_cutoff-r_cutoff_smth)\n",
    "    s[mask]=(x[mask]*x[mask]*x[mask]*(-6*x[mask]*x[mask]+15*x[mask]-10)+1)/r_norm[mask]\n",
    "    return s"
   ]
  },
  {
   "cell_type": "code",
   "execution_count": 150,
   "metadata": {},
   "outputs": [],
   "source": [
    "def convert_general(relative_coords):\n",
    "    general_coords=torch.zeros((relative_coords.shape[0],4))\n",
    "    relative_coords_norm=torch.linalg.norm(relative_coords,dim=1)\n",
    "    s_vec=switch_func(relative_coords_norm)\n",
    "    general_coords[:,0]=s_vec\n",
    "    general_coords[:,1:]=relative_coords*s_vec.view(-1,1)/relative_coords_norm.view(-1,1)\n",
    "    return general_coords"
   ]
  },
  {
   "cell_type": "code",
   "execution_count": 151,
   "metadata": {},
   "outputs": [
    {
     "data": {
      "text/plain": [
       "torch.Size([5000, 4])"
      ]
     },
     "execution_count": 151,
     "metadata": {},
     "output_type": "execute_result"
    }
   ],
   "source": [
    "general_coords=convert_general(relative_coords)\n",
    "general_coords.shape"
   ]
  },
  {
   "cell_type": "code",
   "execution_count": 152,
   "metadata": {},
   "outputs": [],
   "source": [
    "# x=torch.arange(6).reshape(2,3)\n",
    "# print(x)\n",
    "# x-=torch.concat([x.max(axis=1,keepdim=True).values]*x.size()[1],dim=1)\n",
    "# print(x)\n",
    "# x_exp=torch.exp(x)\n",
    "# x_exp/torch.concat([x_exp.sum(dim=1,keepdim=True)]*x.size()[1],dim=1)"
   ]
  },
  {
   "cell_type": "code",
   "execution_count": 153,
   "metadata": {},
   "outputs": [],
   "source": [
    "def relu(x):\n",
    "    x=torch.where(x>0,x,torch.zeros_like(x))\n",
    "    return x\n",
    "\n",
    "def softmax(x):\n",
    "    x-=torch.concat([x.max(axis=1,keepdim=True).values]*x.size()[1],dim=1)\n",
    "    x_exp=torch.exp(x)\n",
    "    return x_exp/torch.concat([x_exp.sum(dim=1,keepdim=True)]*x.size()[1],dim=1)\n",
    "\n",
    "class ThreeLayerPerceptron(nn.Module):\n",
    "    def __init__(self,in_dim,hid_dim,out_dim,function=relu):\n",
    "        super(ThreeLayerPerceptron,self).__init__()\n",
    "        self.linear1=nn.Linear(in_dim,hid_dim)\n",
    "        self.linear2=nn.Linear(hid_dim,hid_dim)\n",
    "        self.linear3=nn.Linear(hid_dim,out_dim)\n",
    "        self.function=function\n",
    "    def forward(self,x):\n",
    "        x=self.linear1(x)\n",
    "        x=self.function(x)\n",
    "        x=self.linear2(x)\n",
    "        x=self.function(x)\n",
    "        x=self.linear3(x)\n",
    "        # x=softmax(x)\n",
    "        return x"
   ]
  },
  {
   "cell_type": "code",
   "execution_count": 154,
   "metadata": {},
   "outputs": [],
   "source": [
    "# ### TEST ###\n",
    "# x=torch.tensor([[0,0],[1,0],[0,1],[1,1]],dtype=torch.float)\n",
    "# t=torch.tensor([0,1,1,0],dtype=torch.long)\n",
    "\n",
    "# mlp=ThreeLayerPerceptron(2,3,2)\n",
    "\n",
    "# optimizer=optim.SGD(mlp.parameters(),lr=0.1)\n",
    "\n",
    "# mlp.train()\n",
    "\n",
    "# for i in range(5000):\n",
    "#     t_hot=torch.eye(2)[t]\n",
    "#     y_pred=mlp(x)\n",
    "#     loss=-(t_hot*torch.log(y_pred)).sum(axis=1).mean()\n",
    "\n",
    "#     optimizer.zero_grad()\n",
    "#     loss.backward()\n",
    "\n",
    "#     optimizer.step()\n",
    "\n",
    "#     if i%1000==0:\n",
    "#         print(i,loss.item())"
   ]
  },
  {
   "cell_type": "code",
   "execution_count": 155,
   "metadata": {},
   "outputs": [],
   "source": [
    "# mlp.eval()\n",
    "# y=mlp.forward(x)\n",
    "# y"
   ]
  },
  {
   "cell_type": "code",
   "execution_count": 156,
   "metadata": {},
   "outputs": [],
   "source": [
    "max_atom_type=1\n",
    "atom_type_embeded_nchanl=1\n",
    "atom_type_one_hot=torch.eye(max_atom_type+1)\n",
    "atom_type_net=ThreeLayerPerceptron(\n",
    "    in_dim=max_atom_type+1,\n",
    "    hid_dim=atom_type_embeded_nchanl,\n",
    "    out_dim=atom_type_embeded_nchanl\n",
    ")\n",
    "atom_type_matrix=atom_type_net(atom_type_one_hot)"
   ]
  },
  {
   "cell_type": "code",
   "execution_count": 157,
   "metadata": {},
   "outputs": [
    {
     "name": "stdout",
     "output_type": "stream",
     "text": [
      "torch.Size([5000, 3])\n"
     ]
    }
   ],
   "source": [
    "atom_i_matrix=atom_type_matrix[atom_i_types]\n",
    "atom_j_matrix=atom_type_matrix[atom_j_types]\n",
    "\n",
    "g_vec=torch.concat((\n",
    "    general_coords[:,0].reshape(-1,1),\n",
    "    atom_i_matrix,\n",
    "    atom_j_matrix\n",
    "),dim=1)\n",
    "\n",
    "print(g_vec.shape)"
   ]
  },
  {
   "cell_type": "code",
   "execution_count": 158,
   "metadata": {},
   "outputs": [],
   "source": [
    "M1,M2=100,50\n",
    "embeded_net=ThreeLayerPerceptron(in_dim=1+2*atom_type_embeded_nchanl,hid_dim=M1,out_dim=M1)\n",
    "Gi1s=embeded_net(g_vec).reshape(coords.shape[0],sel,M1) # the element is (i,j,k)\n",
    "Gi2s=Gi1s[:,:,:M2]"
   ]
  },
  {
   "cell_type": "code",
   "execution_count": 159,
   "metadata": {},
   "outputs": [],
   "source": [
    "general_coords=general_coords.reshape(coords.shape[0],sel,4)"
   ]
  },
  {
   "cell_type": "code",
   "execution_count": 160,
   "metadata": {},
   "outputs": [],
   "source": [
    "# general_coords.shape,Gi2s.shape"
   ]
  },
  {
   "cell_type": "code",
   "execution_count": 161,
   "metadata": {},
   "outputs": [],
   "source": [
    "left=torch.bmm(\n",
    "    torch.transpose(Gi1s,1,2),\n",
    "    general_coords\n",
    ")\n",
    "\n",
    "right=torch.bmm(\n",
    "    torch.transpose(general_coords,1,2),\n",
    "    Gi2s\n",
    ")\n",
    "\n",
    "Dis=torch.bmm(left,right)\n",
    "Dis_reshaped=Dis.reshape(N,M1*M2)"
   ]
  },
  {
   "cell_type": "code",
   "execution_count": null,
   "metadata": {},
   "outputs": [],
   "source": [
    "# atom_type_matrix[atom_types]"
   ]
  },
  {
   "cell_type": "code",
   "execution_count": 163,
   "metadata": {},
   "outputs": [
    {
     "data": {
      "text/plain": [
       "torch.Size([100, 5001])"
      ]
     },
     "execution_count": 163,
     "metadata": {},
     "output_type": "execute_result"
    }
   ],
   "source": [
    "feature_vectors=torch.concat((\n",
    "    Dis_reshaped,\n",
    "    atom_type_matrix[atom_types]\n",
    "),dim=1)\n",
    "\n",
    "feature_vectors.shape"
   ]
  },
  {
   "cell_type": "code",
   "execution_count": 165,
   "metadata": {},
   "outputs": [
    {
     "name": "stdout",
     "output_type": "stream",
     "text": [
      "tensor(-11.3160, grad_fn=<SumBackward0>)\n"
     ]
    }
   ],
   "source": [
    "fitting_net=ThreeLayerPerceptron(\n",
    "    in_dim=M1*M2+atom_type_embeded_nchanl,\n",
    "    hid_dim=100,\n",
    "    out_dim=1\n",
    ")\n",
    "\n",
    "total_potential_energy=torch.sum(\n",
    "    fitting_net(feature_vectors)\n",
    ")\n",
    "\n",
    "print(total_potential_energy)"
   ]
  },
  {
   "cell_type": "code",
   "execution_count": null,
   "metadata": {},
   "outputs": [],
   "source": []
  }
 ],
 "metadata": {
  "kernelspec": {
   "display_name": "pytorch",
   "language": "python",
   "name": "python3"
  },
  "language_info": {
   "name": "python",
   "version": "3.12.2"
  }
 },
 "nbformat": 4,
 "nbformat_minor": 2
}
